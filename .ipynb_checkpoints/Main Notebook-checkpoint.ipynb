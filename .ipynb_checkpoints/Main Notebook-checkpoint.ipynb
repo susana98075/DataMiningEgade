{
 "cells": [
  {
   "cell_type": "markdown",
   "id": "a181dd57",
   "metadata": {},
   "source": [
    "# Libraries"
   ]
  },
  {
   "cell_type": "code",
   "execution_count": 8,
   "id": "532fe173",
   "metadata": {},
   "outputs": [],
   "source": [
    "%run common.ipy"
   ]
  },
  {
   "cell_type": "code",
   "execution_count": 5,
   "id": "04689d63",
   "metadata": {},
   "outputs": [
    {
     "name": "stdout",
     "output_type": "stream",
     "text": [
      "Main Notebook.ipynb  common.ipy\r\n",
      "README.md            \u001b[34mdatasets\u001b[m\u001b[m/\r\n"
     ]
    }
   ],
   "source": [
    "%ls"
   ]
  },
  {
   "cell_type": "code",
   "execution_count": 6,
   "id": "5243880d",
   "metadata": {},
   "outputs": [
    {
     "name": "stdout",
     "output_type": "stream",
     "text": [
      "Book3.csv                  data.csv\r\n",
      "Canada.xlsx                headbrain.csv\r\n",
      "Cartwheeldata.csv          mic2.xlsx\r\n",
      "adult.csv                  movies.csv\r\n",
      "airline_data.csv           nhanes_2015_2016.csv\r\n",
      "antropometria-dataset.csv  pokemon.csv\r\n",
      "antropometria00.csv        reg_data.csv\r\n",
      "census.csv                 sample_pivot.csv\r\n",
      "coches.csv                 tips.csv\r\n",
      "cwurData.csv               weight-height.csv\r\n"
     ]
    }
   ],
   "source": [
    "%ls datasets/"
   ]
  },
  {
   "cell_type": "markdown",
   "id": "1a2d8ebd",
   "metadata": {},
   "source": [
    "# Variables Types"
   ]
  },
  {
   "cell_type": "code",
   "execution_count": 9,
   "id": "a5dc3e59",
   "metadata": {},
   "outputs": [
    {
     "data": {
      "text/plain": [
       "float"
      ]
     },
     "execution_count": 9,
     "metadata": {},
     "output_type": "execute_result"
    }
   ],
   "source": [
    "type(math.pi)"
   ]
  },
  {
   "cell_type": "code",
   "execution_count": 10,
   "id": "1ae9e237",
   "metadata": {},
   "outputs": [
    {
     "data": {
      "text/plain": [
       "int"
      ]
     },
     "execution_count": 10,
     "metadata": {},
     "output_type": "execute_result"
    }
   ],
   "source": [
    "type(-3)"
   ]
  },
  {
   "cell_type": "markdown",
   "id": "d8317c5c",
   "metadata": {},
   "source": [
    "# Lists"
   ]
  },
  {
   "cell_type": "code",
   "execution_count": 11,
   "id": "a4032736",
   "metadata": {},
   "outputs": [],
   "source": [
    "numbers=[math.pi,3/14,3/15]"
   ]
  },
  {
   "cell_type": "code",
   "execution_count": 14,
   "id": "f4dff7ff",
   "metadata": {},
   "outputs": [
    {
     "data": {
      "text/plain": [
       "list"
      ]
     },
     "execution_count": 14,
     "metadata": {},
     "output_type": "execute_result"
    }
   ],
   "source": [
    "type(numbers)"
   ]
  },
  {
   "cell_type": "code",
   "execution_count": 16,
   "id": "2d4a8689",
   "metadata": {},
   "outputs": [
    {
     "name": "stdout",
     "output_type": "stream",
     "text": [
      "3.141592653589793 0.21428571428571427 0.2\n"
     ]
    }
   ],
   "source": [
    "print(*numbers)"
   ]
  },
  {
   "cell_type": "code",
   "execution_count": 19,
   "id": "92130c2e",
   "metadata": {},
   "outputs": [
    {
     "name": "stdout",
     "output_type": "stream",
     "text": [
      "3.141592653589793 \t <class 'float'>\n",
      "0.21428571428571427 \t <class 'float'>\n",
      "0.2 \t <class 'float'>\n"
     ]
    }
   ],
   "source": [
    "for i in numbers:\n",
    "    print(i,'\\t',type(i))"
   ]
  },
  {
   "cell_type": "code",
   "execution_count": 20,
   "id": "4bd66439",
   "metadata": {},
   "outputs": [
    {
     "data": {
      "text/plain": [
       "3"
      ]
     },
     "execution_count": 20,
     "metadata": {},
     "output_type": "execute_result"
    }
   ],
   "source": [
    "len(numbers)"
   ]
  },
  {
   "cell_type": "code",
   "execution_count": 24,
   "id": "b420db72",
   "metadata": {},
   "outputs": [
    {
     "data": {
      "text/plain": [
       "3.5558783678755077"
      ]
     },
     "execution_count": 24,
     "metadata": {},
     "output_type": "execute_result"
    }
   ],
   "source": [
    "sum(numbers)"
   ]
  },
  {
   "cell_type": "code",
   "execution_count": 25,
   "id": "228b58b7",
   "metadata": {},
   "outputs": [
    {
     "data": {
      "text/plain": [
       "1.185292789291836"
      ]
     },
     "execution_count": 25,
     "metadata": {},
     "output_type": "execute_result"
    }
   ],
   "source": [
    "sum(numbers)/len(numbers)"
   ]
  },
  {
   "cell_type": "code",
   "execution_count": 27,
   "id": "213fd22e",
   "metadata": {},
   "outputs": [
    {
     "data": {
      "text/plain": [
       "59049"
      ]
     },
     "execution_count": 27,
     "metadata": {},
     "output_type": "execute_result"
    }
   ],
   "source": [
    "3**10"
   ]
  },
  {
   "cell_type": "code",
   "execution_count": 28,
   "id": "f84d1ff6",
   "metadata": {},
   "outputs": [
    {
     "data": {
      "text/plain": [
       "0.6000000000000001"
      ]
     },
     "execution_count": 28,
     "metadata": {},
     "output_type": "execute_result"
    }
   ],
   "source": [
    "6*10**(-1)"
   ]
  },
  {
   "cell_type": "markdown",
   "id": "a4b16136",
   "metadata": {},
   "source": [
    "# Variable Types"
   ]
  },
  {
   "cell_type": "markdown",
   "id": "d5879134",
   "metadata": {},
   "source": [
    "1. Numerical \n",
    "2. Categorical"
   ]
  },
  {
   "cell_type": "code",
   "execution_count": 30,
   "id": "cb2f168c",
   "metadata": {},
   "outputs": [
    {
     "data": {
      "text/plain": [
       "'20122012'"
      ]
     },
     "execution_count": 30,
     "metadata": {},
     "output_type": "execute_result"
    }
   ],
   "source": [
    "'2012'*2       "
   ]
  },
  {
   "cell_type": "code",
   "execution_count": 31,
   "id": "0dd6685a",
   "metadata": {},
   "outputs": [
    {
     "data": {
      "text/plain": [
       "'*******************************************************************************************************************'"
      ]
     },
     "execution_count": 31,
     "metadata": {},
     "output_type": "execute_result"
    }
   ],
   "source": [
    "'*'*115"
   ]
  },
  {
   "cell_type": "code",
   "execution_count": 35,
   "id": "c845ec22",
   "metadata": {},
   "outputs": [
    {
     "name": "stdout",
     "output_type": "stream",
     "text": [
      "5 is less than 7\n"
     ]
    }
   ],
   "source": [
    "x=5\n",
    "y=7\n",
    "\n",
    "if x<y:\n",
    "    print('{} is less than {}'.format(x,y))\n",
    "else:\n",
    "    print('{} is greater than {}'.format(x,y))"
   ]
  },
  {
   "cell_type": "code",
   "execution_count": 36,
   "id": "7fd6c662",
   "metadata": {},
   "outputs": [],
   "source": [
    "boolist=[True,6<10,1==3,None is None]"
   ]
  },
  {
   "cell_type": "code",
   "execution_count": 37,
   "id": "2ad8c857",
   "metadata": {},
   "outputs": [
    {
     "name": "stdout",
     "output_type": "stream",
     "text": [
      "True \t <class 'bool'>\n",
      "True \t <class 'bool'>\n",
      "False \t <class 'bool'>\n",
      "True \t <class 'bool'>\n"
     ]
    }
   ],
   "source": [
    "for i in boolist:\n",
    "    print(i,'\\t',type(i))"
   ]
  },
  {
   "cell_type": "markdown",
   "id": "3e52218d",
   "metadata": {},
   "source": [
    "# Sorting"
   ]
  },
  {
   "cell_type": "code",
   "execution_count": 51,
   "id": "598d4cb2",
   "metadata": {},
   "outputs": [
    {
     "data": {
      "text/plain": [
       "['d', 'a', 'b', 'h']"
      ]
     },
     "execution_count": 51,
     "metadata": {},
     "output_type": "execute_result"
    }
   ],
   "source": [
    "alist=['d','a','b','h'];alist"
   ]
  },
  {
   "cell_type": "code",
   "execution_count": 52,
   "id": "bdf3622e",
   "metadata": {},
   "outputs": [
    {
     "name": "stdout",
     "output_type": "stream",
     "text": [
      "a b d h\n"
     ]
    }
   ],
   "source": [
    "alist.sort()\n",
    "print(*alist)"
   ]
  },
  {
   "cell_type": "code",
   "execution_count": 53,
   "id": "95b94fa3",
   "metadata": {},
   "outputs": [
    {
     "data": {
      "text/plain": [
       "['a', 'b', 'd', 'h']"
      ]
     },
     "execution_count": 53,
     "metadata": {},
     "output_type": "execute_result"
    }
   ],
   "source": [
    "alist[0:]"
   ]
  },
  {
   "cell_type": "code",
   "execution_count": 54,
   "id": "e16e349a",
   "metadata": {},
   "outputs": [
    {
     "data": {
      "text/plain": [
       "'h'"
      ]
     },
     "execution_count": 54,
     "metadata": {},
     "output_type": "execute_result"
    }
   ],
   "source": [
    "#last element\n",
    "alist[-1]"
   ]
  },
  {
   "cell_type": "code",
   "execution_count": 55,
   "id": "15b2d3b2",
   "metadata": {},
   "outputs": [
    {
     "data": {
      "text/plain": [
       "['b', 'd', 'h']"
      ]
     },
     "execution_count": 55,
     "metadata": {},
     "output_type": "execute_result"
    }
   ],
   "source": [
    "alist[-3:]"
   ]
  },
  {
   "cell_type": "markdown",
   "id": "79abf620",
   "metadata": {},
   "source": [
    "# Datasets"
   ]
  },
  {
   "cell_type": "code",
   "execution_count": 58,
   "id": "63de1ce3",
   "metadata": {},
   "outputs": [],
   "source": [
    "df=pd.read_csv('datasets/Cartwheeldata.csv')"
   ]
  },
  {
   "cell_type": "code",
   "execution_count": 60,
   "id": "8394366e",
   "metadata": {},
   "outputs": [
    {
     "data": {
      "text/html": [
       "<div>\n",
       "<style scoped>\n",
       "    .dataframe tbody tr th:only-of-type {\n",
       "        vertical-align: middle;\n",
       "    }\n",
       "\n",
       "    .dataframe tbody tr th {\n",
       "        vertical-align: top;\n",
       "    }\n",
       "\n",
       "    .dataframe thead th {\n",
       "        text-align: right;\n",
       "    }\n",
       "</style>\n",
       "<table border=\"1\" class=\"dataframe\">\n",
       "  <thead>\n",
       "    <tr style=\"text-align: right;\">\n",
       "      <th></th>\n",
       "      <th>ID</th>\n",
       "      <th>Age</th>\n",
       "      <th>Gender</th>\n",
       "      <th>GenderGroup</th>\n",
       "      <th>Glasses</th>\n",
       "      <th>GlassesGroup</th>\n",
       "      <th>Height</th>\n",
       "      <th>Wingspan</th>\n",
       "      <th>CWDistance</th>\n",
       "      <th>Complete</th>\n",
       "      <th>CompleteGroup</th>\n",
       "      <th>Score</th>\n",
       "    </tr>\n",
       "  </thead>\n",
       "  <tbody>\n",
       "    <tr>\n",
       "      <th>0</th>\n",
       "      <td>1</td>\n",
       "      <td>56</td>\n",
       "      <td>F</td>\n",
       "      <td>1</td>\n",
       "      <td>Y</td>\n",
       "      <td>1</td>\n",
       "      <td>62.0</td>\n",
       "      <td>61.0</td>\n",
       "      <td>79</td>\n",
       "      <td>Y</td>\n",
       "      <td>1</td>\n",
       "      <td>7</td>\n",
       "    </tr>\n",
       "    <tr>\n",
       "      <th>1</th>\n",
       "      <td>2</td>\n",
       "      <td>26</td>\n",
       "      <td>F</td>\n",
       "      <td>1</td>\n",
       "      <td>Y</td>\n",
       "      <td>1</td>\n",
       "      <td>62.0</td>\n",
       "      <td>60.0</td>\n",
       "      <td>70</td>\n",
       "      <td>Y</td>\n",
       "      <td>1</td>\n",
       "      <td>8</td>\n",
       "    </tr>\n",
       "    <tr>\n",
       "      <th>2</th>\n",
       "      <td>3</td>\n",
       "      <td>33</td>\n",
       "      <td>F</td>\n",
       "      <td>1</td>\n",
       "      <td>Y</td>\n",
       "      <td>1</td>\n",
       "      <td>66.0</td>\n",
       "      <td>64.0</td>\n",
       "      <td>85</td>\n",
       "      <td>Y</td>\n",
       "      <td>1</td>\n",
       "      <td>7</td>\n",
       "    </tr>\n",
       "    <tr>\n",
       "      <th>3</th>\n",
       "      <td>4</td>\n",
       "      <td>39</td>\n",
       "      <td>F</td>\n",
       "      <td>1</td>\n",
       "      <td>N</td>\n",
       "      <td>0</td>\n",
       "      <td>64.0</td>\n",
       "      <td>63.0</td>\n",
       "      <td>87</td>\n",
       "      <td>Y</td>\n",
       "      <td>1</td>\n",
       "      <td>10</td>\n",
       "    </tr>\n",
       "  </tbody>\n",
       "</table>\n",
       "</div>"
      ],
      "text/plain": [
       "   ID  Age Gender  GenderGroup Glasses  GlassesGroup  Height  Wingspan  \\\n",
       "0   1   56      F            1       Y             1    62.0      61.0   \n",
       "1   2   26      F            1       Y             1    62.0      60.0   \n",
       "2   3   33      F            1       Y             1    66.0      64.0   \n",
       "3   4   39      F            1       N             0    64.0      63.0   \n",
       "\n",
       "   CWDistance Complete  CompleteGroup  Score  \n",
       "0          79        Y              1      7  \n",
       "1          70        Y              1      8  \n",
       "2          85        Y              1      7  \n",
       "3          87        Y              1     10  "
      ]
     },
     "execution_count": 60,
     "metadata": {},
     "output_type": "execute_result"
    }
   ],
   "source": [
    "df.head(4)"
   ]
  },
  {
   "cell_type": "code",
   "execution_count": 63,
   "id": "b02b4a17",
   "metadata": {},
   "outputs": [],
   "source": [
    "x=df.columns.tolist()"
   ]
  },
  {
   "cell_type": "code",
   "execution_count": 71,
   "id": "46e9bfcf",
   "metadata": {},
   "outputs": [
    {
     "data": {
      "text/plain": [
       "'CWDistance'"
      ]
     },
     "execution_count": 71,
     "metadata": {},
     "output_type": "execute_result"
    }
   ],
   "source": [
    "x[8]"
   ]
  },
  {
   "cell_type": "code",
   "execution_count": 64,
   "id": "0adfa134",
   "metadata": {},
   "outputs": [
    {
     "data": {
      "text/plain": [
       "list"
      ]
     },
     "execution_count": 64,
     "metadata": {},
     "output_type": "execute_result"
    }
   ],
   "source": [
    "type(x)"
   ]
  },
  {
   "cell_type": "markdown",
   "id": "32ed4e8d",
   "metadata": {},
   "source": [
    "loc vs.iloc\n",
    "\n",
    "loc \n",
    "    df.loc[rowstar:rowend,columnstar:columnend] you need to use id names\n",
    "    \n",
    "iloc \n",
    "    df.iloc[rowstar:rowend,columnstar:columnend] you need to use id indices"
   ]
  },
  {
   "cell_type": "code",
   "execution_count": 73,
   "id": "cff8ee10",
   "metadata": {},
   "outputs": [
    {
     "data": {
      "text/plain": [
       "0    79\n",
       "1    70\n",
       "Name: CWDistance, dtype: int64"
      ]
     },
     "execution_count": 73,
     "metadata": {},
     "output_type": "execute_result"
    }
   ],
   "source": [
    "df.loc[:,'CWDistance'].head(2)"
   ]
  },
  {
   "cell_type": "code",
   "execution_count": 74,
   "id": "7e121388",
   "metadata": {},
   "outputs": [
    {
     "data": {
      "text/plain": [
       "0    79\n",
       "1    70\n",
       "Name: CWDistance, dtype: int64"
      ]
     },
     "execution_count": 74,
     "metadata": {},
     "output_type": "execute_result"
    }
   ],
   "source": [
    "df.iloc[:,8].head(2)"
   ]
  },
  {
   "cell_type": "code",
   "execution_count": 80,
   "id": "df263042",
   "metadata": {},
   "outputs": [
    {
     "data": {
      "text/html": [
       "<div>\n",
       "<style scoped>\n",
       "    .dataframe tbody tr th:only-of-type {\n",
       "        vertical-align: middle;\n",
       "    }\n",
       "\n",
       "    .dataframe tbody tr th {\n",
       "        vertical-align: top;\n",
       "    }\n",
       "\n",
       "    .dataframe thead th {\n",
       "        text-align: right;\n",
       "    }\n",
       "</style>\n",
       "<table border=\"1\" class=\"dataframe\">\n",
       "  <thead>\n",
       "    <tr style=\"text-align: right;\">\n",
       "      <th></th>\n",
       "      <th>CWDistance</th>\n",
       "    </tr>\n",
       "  </thead>\n",
       "  <tbody>\n",
       "    <tr>\n",
       "      <th>0</th>\n",
       "      <td>79</td>\n",
       "    </tr>\n",
       "    <tr>\n",
       "      <th>1</th>\n",
       "      <td>70</td>\n",
       "    </tr>\n",
       "    <tr>\n",
       "      <th>2</th>\n",
       "      <td>85</td>\n",
       "    </tr>\n",
       "  </tbody>\n",
       "</table>\n",
       "</div>"
      ],
      "text/plain": [
       "   CWDistance\n",
       "0          79\n",
       "1          70\n",
       "2          85"
      ]
     },
     "execution_count": 80,
     "metadata": {},
     "output_type": "execute_result"
    }
   ],
   "source": [
    "df.iloc[:,-4:-3].head(3)"
   ]
  },
  {
   "cell_type": "code",
   "execution_count": 81,
   "id": "9469e265",
   "metadata": {},
   "outputs": [
    {
     "data": {
      "text/plain": [
       "['ID',\n",
       " 'Age',\n",
       " 'Gender',\n",
       " 'GenderGroup',\n",
       " 'Glasses',\n",
       " 'GlassesGroup',\n",
       " 'Height',\n",
       " 'Wingspan',\n",
       " 'CWDistance',\n",
       " 'Complete',\n",
       " 'CompleteGroup',\n",
       " 'Score']"
      ]
     },
     "execution_count": 81,
     "metadata": {},
     "output_type": "execute_result"
    }
   ],
   "source": [
    "x"
   ]
  },
  {
   "cell_type": "code",
   "execution_count": 84,
   "id": "17fc599d",
   "metadata": {},
   "outputs": [
    {
     "data": {
      "text/html": [
       "<div>\n",
       "<style scoped>\n",
       "    .dataframe tbody tr th:only-of-type {\n",
       "        vertical-align: middle;\n",
       "    }\n",
       "\n",
       "    .dataframe tbody tr th {\n",
       "        vertical-align: top;\n",
       "    }\n",
       "\n",
       "    .dataframe thead th {\n",
       "        text-align: right;\n",
       "    }\n",
       "</style>\n",
       "<table border=\"1\" class=\"dataframe\">\n",
       "  <thead>\n",
       "    <tr style=\"text-align: right;\">\n",
       "      <th></th>\n",
       "      <th>Complete</th>\n",
       "      <th>CompleteGroup</th>\n",
       "      <th>Score</th>\n",
       "    </tr>\n",
       "  </thead>\n",
       "  <tbody>\n",
       "    <tr>\n",
       "      <th>0</th>\n",
       "      <td>Y</td>\n",
       "      <td>1</td>\n",
       "      <td>7</td>\n",
       "    </tr>\n",
       "    <tr>\n",
       "      <th>1</th>\n",
       "      <td>Y</td>\n",
       "      <td>1</td>\n",
       "      <td>8</td>\n",
       "    </tr>\n",
       "    <tr>\n",
       "      <th>2</th>\n",
       "      <td>Y</td>\n",
       "      <td>1</td>\n",
       "      <td>7</td>\n",
       "    </tr>\n",
       "  </tbody>\n",
       "</table>\n",
       "</div>"
      ],
      "text/plain": [
       "  Complete  CompleteGroup  Score\n",
       "0        Y              1      7\n",
       "1        Y              1      8\n",
       "2        Y              1      7"
      ]
     },
     "execution_count": 84,
     "metadata": {},
     "output_type": "execute_result"
    }
   ],
   "source": [
    "df.loc[:2,['Complete',\n",
    " 'CompleteGroup',\n",
    " 'Score']]"
   ]
  },
  {
   "cell_type": "code",
   "execution_count": 86,
   "id": "c144aed2",
   "metadata": {},
   "outputs": [
    {
     "name": "stdout",
     "output_type": "stream",
     "text": [
      "<class 'pandas.core.frame.DataFrame'>\n",
      "RangeIndex: 25 entries, 0 to 24\n",
      "Data columns (total 12 columns):\n",
      " #   Column         Non-Null Count  Dtype  \n",
      "---  ------         --------------  -----  \n",
      " 0   ID             25 non-null     int64  \n",
      " 1   Age            25 non-null     int64  \n",
      " 2   Gender         25 non-null     object \n",
      " 3   GenderGroup    25 non-null     int64  \n",
      " 4   Glasses        25 non-null     object \n",
      " 5   GlassesGroup   25 non-null     int64  \n",
      " 6   Height         25 non-null     float64\n",
      " 7   Wingspan       25 non-null     float64\n",
      " 8   CWDistance     25 non-null     int64  \n",
      " 9   Complete       25 non-null     object \n",
      " 10  CompleteGroup  25 non-null     int64  \n",
      " 11  Score          25 non-null     int64  \n",
      "dtypes: float64(2), int64(7), object(3)\n",
      "memory usage: 2.5+ KB\n"
     ]
    }
   ],
   "source": [
    "df.info()"
   ]
  },
  {
   "cell_type": "code",
   "execution_count": 87,
   "id": "6bb01035",
   "metadata": {},
   "outputs": [
    {
     "data": {
      "text/plain": [
       "array(['F', 'M'], dtype=object)"
      ]
     },
     "execution_count": 87,
     "metadata": {},
     "output_type": "execute_result"
    }
   ],
   "source": [
    "df['Gender'].unique()"
   ]
  },
  {
   "cell_type": "code",
   "execution_count": 88,
   "id": "16093d2a",
   "metadata": {},
   "outputs": [
    {
     "data": {
      "text/plain": [
       "array([62.  , 66.  , 64.  , 73.  , 75.  , 65.  , 74.  , 63.  , 69.5 ,\n",
       "       62.75, 61.5 , 71.  , 70.  , 68.  , 69.  ])"
      ]
     },
     "execution_count": 88,
     "metadata": {},
     "output_type": "execute_result"
    }
   ],
   "source": [
    "df['Height'].unique()"
   ]
  },
  {
   "cell_type": "code",
   "execution_count": 89,
   "id": "b7689b8c",
   "metadata": {},
   "outputs": [
    {
     "data": {
      "text/plain": [
       "Gender  GenderGroup\n",
       "F       1              12\n",
       "M       2              13\n",
       "dtype: int64"
      ]
     },
     "execution_count": 89,
     "metadata": {},
     "output_type": "execute_result"
    }
   ],
   "source": [
    "df.groupby(['Gender','GenderGroup']).size()"
   ]
  },
  {
   "cell_type": "code",
   "execution_count": 93,
   "id": "5bfbecd8",
   "metadata": {},
   "outputs": [
    {
     "data": {
      "text/plain": [
       "Gender  GenderGroup\n",
       "M       2              13\n",
       "F       1              12\n",
       "dtype: int64"
      ]
     },
     "execution_count": 93,
     "metadata": {},
     "output_type": "execute_result"
    }
   ],
   "source": [
    "df[['Gender','GenderGroup']].value_counts()"
   ]
  }
 ],
 "metadata": {
  "kernelspec": {
   "display_name": "Python 3 (ipykernel)",
   "language": "python",
   "name": "python3"
  },
  "language_info": {
   "codemirror_mode": {
    "name": "ipython",
    "version": 3
   },
   "file_extension": ".py",
   "mimetype": "text/x-python",
   "name": "python",
   "nbconvert_exporter": "python",
   "pygments_lexer": "ipython3",
   "version": "3.9.7"
  }
 },
 "nbformat": 4,
 "nbformat_minor": 5
}
